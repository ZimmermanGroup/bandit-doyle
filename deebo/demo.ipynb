{
 "cells": [
  {
   "cell_type": "markdown",
   "source": [
    "# Running bandit optimization algorithms with synthetic arms\n",
    "\n",
    "This section introduces optimization with bandit algorithms, and how our framework works"
   ],
   "metadata": {
    "collapsed": false
   }
  },
  {
   "cell_type": "markdown",
   "source": [
    "## testing ε-greedy with Bernoulli arms\n",
    "\n",
    "ε-greedy is one of the most common bandit algorithms with $\\epsilon \\in (0,1)$. It explores $\\epsilon$ of the times, and exploits $(1-\\epsilon)$ of the times.\n",
    "We will explore some different ε's for the algorithm, and compare their performances in optimizing with 5 Bernoulli arms."
   ],
   "metadata": {
    "collapsed": false
   }
  },
  {
   "cell_type": "code",
   "execution_count": null,
   "outputs": [],
   "source": [
    "from arms import BernoulliArm\n",
    "from algos_regret import EpsilonGreedy\n",
    "from algos_testfunc import test_algorithm_regret\n",
    "\n",
    "# build arms here\n",
    "# each Bernoulli arm has an underlying Bernoulli distribution, with a different mean\n",
    "# The Bernoulli arm with a mean of 0.9 is the optimal arm, which will return a reward 90% of the times on average.\n",
    "means = [0.1, 0.2, 0.3, 0.4, 0.9]\n",
    "n_arms = len(means)\n",
    "arms = list(map(lambda x: BernoulliArm(x), means))\n",
    "\n",
    "# test for epsilon greedy\n",
    "for eps in [0.1, 0.3, 0.5]:\n",
    "    algo = EpsilonGreedy(n_arms, eps)\n",
    "    algo.reset(n_arms)\n",
    "    results = test_algorithm_regret(algo, arms, n_sims, n_horizon)\n",
    "    filename = 'epsilon_' + str(eps) + '.csv'\n",
    "    results.to_csv(output_dir / filename)\n",
    "\n",
    "# test for epsilon greedy with annealing\n",
    "algo = AnnealingEpsilonGreedy(n_arms)\n",
    "algo.reset(n_arms)\n",
    "results = test_algorithm_regret(algo, arms, n_sims, n_horizon)\n",
    "results.to_csv(output_dir / 'annealing.csv')\n"
   ],
   "metadata": {
    "collapsed": false
   }
  },
  {
   "cell_type": "markdown",
   "source": [
    "# Running bandit optimization in real time\n",
    "This section describes how to run optimization in real time, where experiments are conducted as they are proposed"
   ],
   "metadata": {
    "collapsed": false
   }
  },
  {
   "cell_type": "markdown",
   "source": [
    "## set up the reaction scope"
   ],
   "metadata": {
    "collapsed": false
   }
  },
  {
   "cell_type": "code",
   "execution_count": null,
   "outputs": [],
   "source": [],
   "metadata": {
    "collapsed": false
   }
  }
 ],
 "metadata": {
  "kernelspec": {
   "display_name": "Python 3",
   "language": "python",
   "name": "python3"
  },
  "language_info": {
   "codemirror_mode": {
    "name": "ipython",
    "version": 2
   },
   "file_extension": ".py",
   "mimetype": "text/x-python",
   "name": "python",
   "nbconvert_exporter": "python",
   "pygments_lexer": "ipython2",
   "version": "2.7.6"
  }
 },
 "nbformat": 4,
 "nbformat_minor": 0
}
